{
 "cells": [
  {
   "cell_type": "markdown",
   "metadata": {},
   "source": [
    "## **Prerequisites**\n",
    "\n",
    "#### 1. Setup Azure Machine Learning Workspace via the Portal\n",
    "- Note workspace name, resource group, and subscription id\n",
    "#### 2. Create and populate .env file in the home directory\n",
    "- Use [.sample.env](../.sample.env) as a guide\n",
    "#### 3. Create and activate conda virtual env\n",
    "- Run the following bash commands via the terminal\n",
    "```bash\n",
    "    conda env create --name many_models --file=../environment/conda.yaml\n",
    "    conda activate many_models\n",
    "    az login\n",
    "```\n",
    "- Select the many_models python interpreter and kernel to run the remainder of this notebook\n",
    "#### 4. Load environment variables by running the cell below"
   ]
  },
  {
   "cell_type": "code",
   "execution_count": 1,
   "metadata": {},
   "outputs": [
    {
     "name": "stdout",
     "output_type": "stream",
     "text": [
      "mm-aml-wksp\n"
     ]
    }
   ],
   "source": [
    "# Load environment variables from .env file\n",
    "import os\n",
    "from dotenv import load_dotenv, find_dotenv\n",
    "\n",
    "load_dotenv(find_dotenv(), override=True)\n",
    "\n",
    "#Confirm variabels were loaded\n",
    "print(os.getenv(\"WORKSPACE_NAME\"))"
   ]
  },
  {
   "cell_type": "markdown",
   "metadata": {},
   "source": [
    "#### 5. Load dataset to AML workspace"
   ]
  },
  {
   "cell_type": "code",
   "execution_count": 2,
   "metadata": {},
   "outputs": [],
   "source": [
    "from azure.ai.ml import MLClient\n",
    "from azure.identity import DefaultAzureCredential\n",
    "\n",
    "import os\n",
    "\n",
    "# authenticate\n",
    "credential = DefaultAzureCredential(tenantid=os.environ.get('TENANT_ID'))\n",
    "\n",
    "# Get a handle to the workspace\n",
    "ml_client = MLClient(\n",
    "    credential=credential,\n",
    "    subscription_id = os.environ.get('SUBSCRIPTION_ID'),\n",
    "    resource_group_name = os.environ.get('RESOURCE_GROUP_NAME'),\n",
    "    workspace_name = os.environ.get('WORKSPACE_NAME'),\n",
    ")"
   ]
  },
  {
   "cell_type": "code",
   "execution_count": 3,
   "metadata": {},
   "outputs": [],
   "source": [
    "import time\n",
    "\n",
    "# edit this field to download up to 11,973 files (Each file is a SKU/Store combination; You will fit 1 model per file)\n",
    "DATASET_MAX_FILES = 15 \n",
    "\n",
    "# set the version number of the data asset to the current UTC time\n",
    "v1 = time.strftime(\"%Y.%m.%d.%H%M%S\", time.gmtime())\n",
    "data_name = \"oj-simulated-sales-data\""
   ]
  },
  {
   "cell_type": "code",
   "execution_count": null,
   "metadata": {},
   "outputs": [],
   "source": [
    "from azureml.opendatasets import OjSalesSimulated\n",
    "import os\n",
    "\n",
    "local_path = \"../data/oj_sim_sales\"\n",
    "if not os.path.exists(local_path):\n",
    "    os.mkdir(local_path)\n",
    "\n",
    "oj_sales_files = OjSalesSimulated.get_file_dataset().take(DATASET_MAX_FILES)\n",
    "oj_sales_files.download(local_path, overwrite=True)"
   ]
  },
  {
   "cell_type": "code",
   "execution_count": null,
   "metadata": {},
   "outputs": [],
   "source": [
    "from azure.ai.ml.entities import Data\n",
    "from azure.ai.ml.constants import AssetTypes\n",
    "import time \n",
    "\n",
    "\n",
    "my_data = Data(\n",
    "    name=data_name,\n",
    "    version=v1,\n",
    "    description=\"Chicago area orange juice sales data\",\n",
    "    path=local_path,\n",
    "    type=AssetTypes.URI_FOLDER,\n",
    ")\n",
    "\n",
    "# create data asset\n",
    "ml_client.data.create_or_update(my_data)\n",
    "\n",
    "print(f\"Data asset created. Name: {my_data.name}, version: {my_data.version}\")"
   ]
  },
  {
   "cell_type": "code",
   "execution_count": 8,
   "metadata": {},
   "outputs": [
    {
     "name": "stderr",
     "output_type": "stream",
     "text": [
      "/home/zacksoenen/miniconda3/envs/many_models/lib/python3.8/site-packages/azureml/dataprep/api/_dataframereader.py:404: FutureWarning: promote has been superseded by mode='default'.\n",
      "  dataframe = dataframe_reader.complete_incoming_dataframe(\n"
     ]
    },
    {
     "data": {
      "text/html": [
       "<div>\n",
       "<style scoped>\n",
       "    .dataframe tbody tr th:only-of-type {\n",
       "        vertical-align: middle;\n",
       "    }\n",
       "\n",
       "    .dataframe tbody tr th {\n",
       "        vertical-align: top;\n",
       "    }\n",
       "\n",
       "    .dataframe thead th {\n",
       "        text-align: right;\n",
       "    }\n",
       "</style>\n",
       "<table border=\"1\" class=\"dataframe\">\n",
       "  <thead>\n",
       "    <tr style=\"text-align: right;\">\n",
       "      <th></th>\n",
       "      <th>WeekStarting</th>\n",
       "      <th>Store</th>\n",
       "      <th>Brand</th>\n",
       "      <th>Quantity</th>\n",
       "      <th>Advert</th>\n",
       "      <th>Price</th>\n",
       "      <th>Revenue</th>\n",
       "    </tr>\n",
       "  </thead>\n",
       "  <tbody>\n",
       "    <tr>\n",
       "      <th>0</th>\n",
       "      <td>1990-06-14</td>\n",
       "      <td>1000</td>\n",
       "      <td>dominicks</td>\n",
       "      <td>12003</td>\n",
       "      <td>True</td>\n",
       "      <td>2.59</td>\n",
       "      <td>31087.77</td>\n",
       "    </tr>\n",
       "    <tr>\n",
       "      <th>1</th>\n",
       "      <td>1990-06-21</td>\n",
       "      <td>1000</td>\n",
       "      <td>dominicks</td>\n",
       "      <td>10239</td>\n",
       "      <td>True</td>\n",
       "      <td>2.39</td>\n",
       "      <td>24471.21</td>\n",
       "    </tr>\n",
       "    <tr>\n",
       "      <th>2</th>\n",
       "      <td>1990-06-28</td>\n",
       "      <td>1000</td>\n",
       "      <td>dominicks</td>\n",
       "      <td>17917</td>\n",
       "      <td>True</td>\n",
       "      <td>2.48</td>\n",
       "      <td>44434.16</td>\n",
       "    </tr>\n",
       "    <tr>\n",
       "      <th>3</th>\n",
       "      <td>1990-07-05</td>\n",
       "      <td>1000</td>\n",
       "      <td>dominicks</td>\n",
       "      <td>14218</td>\n",
       "      <td>True</td>\n",
       "      <td>2.33</td>\n",
       "      <td>33127.94</td>\n",
       "    </tr>\n",
       "    <tr>\n",
       "      <th>4</th>\n",
       "      <td>1990-07-12</td>\n",
       "      <td>1000</td>\n",
       "      <td>dominicks</td>\n",
       "      <td>15925</td>\n",
       "      <td>True</td>\n",
       "      <td>2.01</td>\n",
       "      <td>32009.25</td>\n",
       "    </tr>\n",
       "    <tr>\n",
       "      <th>5</th>\n",
       "      <td>1990-07-19</td>\n",
       "      <td>1000</td>\n",
       "      <td>dominicks</td>\n",
       "      <td>17850</td>\n",
       "      <td>True</td>\n",
       "      <td>2.17</td>\n",
       "      <td>38734.50</td>\n",
       "    </tr>\n",
       "    <tr>\n",
       "      <th>6</th>\n",
       "      <td>1990-07-26</td>\n",
       "      <td>1000</td>\n",
       "      <td>dominicks</td>\n",
       "      <td>10576</td>\n",
       "      <td>True</td>\n",
       "      <td>1.97</td>\n",
       "      <td>20834.72</td>\n",
       "    </tr>\n",
       "    <tr>\n",
       "      <th>7</th>\n",
       "      <td>1990-08-02</td>\n",
       "      <td>1000</td>\n",
       "      <td>dominicks</td>\n",
       "      <td>9912</td>\n",
       "      <td>True</td>\n",
       "      <td>2.26</td>\n",
       "      <td>22401.12</td>\n",
       "    </tr>\n",
       "    <tr>\n",
       "      <th>8</th>\n",
       "      <td>1990-08-09</td>\n",
       "      <td>1000</td>\n",
       "      <td>dominicks</td>\n",
       "      <td>9571</td>\n",
       "      <td>True</td>\n",
       "      <td>2.11</td>\n",
       "      <td>20194.81</td>\n",
       "    </tr>\n",
       "    <tr>\n",
       "      <th>9</th>\n",
       "      <td>1990-08-16</td>\n",
       "      <td>1000</td>\n",
       "      <td>dominicks</td>\n",
       "      <td>15748</td>\n",
       "      <td>True</td>\n",
       "      <td>2.42</td>\n",
       "      <td>38110.16</td>\n",
       "    </tr>\n",
       "  </tbody>\n",
       "</table>\n",
       "</div>"
      ],
      "text/plain": [
       "  WeekStarting  Store      Brand  Quantity  Advert  Price   Revenue\n",
       "0   1990-06-14   1000  dominicks     12003    True   2.59  31087.77\n",
       "1   1990-06-21   1000  dominicks     10239    True   2.39  24471.21\n",
       "2   1990-06-28   1000  dominicks     17917    True   2.48  44434.16\n",
       "3   1990-07-05   1000  dominicks     14218    True   2.33  33127.94\n",
       "4   1990-07-12   1000  dominicks     15925    True   2.01  32009.25\n",
       "5   1990-07-19   1000  dominicks     17850    True   2.17  38734.50\n",
       "6   1990-07-26   1000  dominicks     10576    True   1.97  20834.72\n",
       "7   1990-08-02   1000  dominicks      9912    True   2.26  22401.12\n",
       "8   1990-08-09   1000  dominicks      9571    True   2.11  20194.81\n",
       "9   1990-08-16   1000  dominicks     15748    True   2.42  38110.16"
      ]
     },
     "metadata": {},
     "output_type": "display_data"
    }
   ],
   "source": [
    "import mltable\n",
    "data_asset = ml_client.data.get(data_name, label=\"latest\")\n",
    "\n",
    "path = {\n",
    "  'folder': data_asset.path\n",
    "}\n",
    "\n",
    "tbl = mltable.from_delimited_files(paths=[path])\n",
    "df = tbl.to_pandas_dataframe()\n",
    "display(df.head(10))"
   ]
  },
  {
   "cell_type": "code",
   "execution_count": null,
   "metadata": {
    "vscode": {
     "languageId": "powershell"
    }
   },
   "outputs": [],
   "source": []
  }
 ],
 "metadata": {
  "kernelspec": {
   "display_name": "many_models",
   "language": "python",
   "name": "python3"
  },
  "language_info": {
   "codemirror_mode": {
    "name": "ipython",
    "version": 3
   },
   "file_extension": ".py",
   "mimetype": "text/x-python",
   "name": "python",
   "nbconvert_exporter": "python",
   "pygments_lexer": "ipython3",
   "version": "3.8.18"
  }
 },
 "nbformat": 4,
 "nbformat_minor": 2
}
