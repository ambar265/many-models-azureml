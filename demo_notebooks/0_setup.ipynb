{
 "cells": [
  {
   "cell_type": "markdown",
   "metadata": {},
   "source": [
    "## **Prerequisites**\n",
    "\n",
    "#### 1. Setup Azure Machine Learning Workspace via the Portal\n",
    "- Note workspace name, resource group, and subscription id\n",
    "#### 2. Create and populate .env file in the home directory\n",
    "- Use [.sample.env](../.sample.env) as a guide\n",
    "#### 3. Create and activate conda virtual env\n",
    "- Run the following bash commands via the terminal\n",
    "```bash\n",
    "    conda env create --name many_models --file=../environment/conda.yaml\n",
    "    conda activate many_models\n",
    "    az login\n",
    "```\n",
    "- Select the many_models python interpreter and kernel to run the remainder of this notebook\n",
    "#### 4. Load environment variables by running the cell below"
   ]
  },
  {
   "cell_type": "code",
   "execution_count": 5,
   "metadata": {},
   "outputs": [
    {
     "name": "stdout",
     "output_type": "stream",
     "text": [
      "mm-aml-wksp\n"
     ]
    }
   ],
   "source": [
    "# Load environment variables from .env file\n",
    "import os\n",
    "from dotenv import load_dotenv, find_dotenv\n",
    "\n",
    "load_dotenv(find_dotenv(), override=True)\n",
    "\n",
    "#Confirm variabels were loaded\n",
    "print(os.getenv(\"WORKSPACE_NAME\"))"
   ]
  },
  {
   "cell_type": "markdown",
   "metadata": {},
   "source": [
    "#### 5. Load dataset to AML workspace"
   ]
  },
  {
   "cell_type": "code",
   "execution_count": 6,
   "metadata": {},
   "outputs": [],
   "source": [
    "from azure.ai.ml import MLClient\n",
    "from azure.identity import DefaultAzureCredential\n",
    "\n",
    "import os\n",
    "\n",
    "# authenticate\n",
    "credential = DefaultAzureCredential(tenantid=os.environ.get('TENANT_ID'))\n",
    "\n",
    "# Get a handle to the workspace\n",
    "ml_client = MLClient(\n",
    "    credential=credential,\n",
    "    subscription_id = os.environ.get('SUBSCRIPTION_ID'),\n",
    "    resource_group_name = os.environ.get('RESOURCE_GROUP_NAME'),\n",
    "    workspace_name = os.environ.get('WORKSPACE_NAME'),\n",
    ")"
   ]
  },
  {
   "cell_type": "code",
   "execution_count": null,
   "metadata": {},
   "outputs": [],
   "source": [
    "from azureml.opendatasets import OjSalesSimulated\n",
    "import os\n",
    "\n",
    "DATASET_MAX_FILES = 15 # edit this field to download up to 11,973 files (Each file is a SKU/Store combination; You will fit 1 model per file)\n",
    "\n",
    "local_path = \"../data/oj_sim_sales\"\n",
    "if not os.path.exists(local_path):\n",
    "    os.mkdir(local_path)\n",
    "\n",
    "oj_sales_files = OjSalesSimulated.get_file_dataset().take(DATASET_MAX_FILES)\n",
    "oj_sales_files.download(local_path, overwrite=True)"
   ]
  },
  {
   "cell_type": "code",
   "execution_count": null,
   "metadata": {},
   "outputs": [],
   "source": [
    "from azure.ai.ml.entities import Data\n",
    "from azure.ai.ml.constants import AssetTypes\n",
    "import time \n",
    "\n",
    "# set the version number of the data asset to the current UTC time\n",
    "v1 = time.strftime(\"%Y.%m.%d.%H%M%S\", time.gmtime())\n",
    "data_name = \"oj-simulated-sales-data\"\n",
    "my_data = Data(\n",
    "    name=data_name,\n",
    "    version=v1,\n",
    "    description=\"Chicago area orange juice sales data\",\n",
    "    path=local_path,\n",
    "    type=AssetTypes.URI_FOLDER,\n",
    ")\n",
    "\n",
    "# create data asset\n",
    "ml_client.data.create_or_update(my_data)\n",
    "\n",
    "print(f\"Data asset created. Name: {my_data.name}, version: {my_data.version}\")"
   ]
  },
  {
   "cell_type": "code",
   "execution_count": null,
   "metadata": {},
   "outputs": [],
   "source": [
    "import pandas as pd\n",
    "\n",
    "data_asset = ml_client.data.get(data_name, label=\"latest\")\n",
    "print(data_asset.path)\n",
    "df = pd.read_csv(data_asset.path)\n",
    "display(df.head(10))"
   ]
  },
  {
   "cell_type": "code",
   "execution_count": null,
   "metadata": {
    "vscode": {
     "languageId": "powershell"
    }
   },
   "outputs": [],
   "source": []
  }
 ],
 "metadata": {
  "kernelspec": {
   "display_name": "many_models",
   "language": "python",
   "name": "python3"
  },
  "language_info": {
   "codemirror_mode": {
    "name": "ipython",
    "version": 3
   },
   "file_extension": ".py",
   "mimetype": "text/x-python",
   "name": "python",
   "nbconvert_exporter": "python",
   "pygments_lexer": "ipython3",
   "version": "3.8.18"
  }
 },
 "nbformat": 4,
 "nbformat_minor": 2
}
