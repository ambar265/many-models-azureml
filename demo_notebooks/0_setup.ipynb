{
 "cells": [
  {
   "cell_type": "markdown",
   "metadata": {},
   "source": [
    "## **Prerequisites**\n",
    "\n",
    "#### - Create Azure Machine Learning Workspace via the Portal\n",
    "- Note workspace name, resource group, and subscription id\n",
    "#### - Create and populate .env file in the home directory\n",
    "- Use [.sample.env](../.sample.env) as a guide\n",
    "#### - Create and activate conda virtual env\n",
    "- Run the following bash commands via the terminal\n",
    "```bash\n",
    "    conda env create --name many_models --file=../environment/conda.yaml\n",
    "    conda activate many_models\n",
    "    az login\n",
    "```\n",
    "- Select the many_models python interpreter and kernel to run the remainder of this notebook\n",
    "### **1. Load Data to Workspace**"
   ]
  },
  {
   "cell_type": "code",
   "execution_count": 1,
   "metadata": {},
   "outputs": [],
   "source": [
    "import os\n",
    "import time\n",
    "import pandas as pd\n",
    "from dotenv import load_dotenv, find_dotenv\n",
    "from azure.ai.ml import MLClient\n",
    "from azure.ai.ml.entities import Data\n",
    "from azure.ai.ml.constants import AssetTypes\n",
    "from azure.identity import DefaultAzureCredential"
   ]
  },
  {
   "cell_type": "code",
   "execution_count": 2,
   "metadata": {},
   "outputs": [
    {
     "name": "stdout",
     "output_type": "stream",
     "text": [
      "mm-aml-wksp\n"
     ]
    }
   ],
   "source": [
    "# Load environment variables from .env file\n",
    "load_dotenv(find_dotenv(), override=True)\n",
    "\n",
    "#Confirm variabels were loaded\n",
    "print(os.getenv(\"WORKSPACE_NAME\"))"
   ]
  },
  {
   "cell_type": "code",
   "execution_count": 3,
   "metadata": {},
   "outputs": [],
   "source": [
    "# authenticate\n",
    "credential = DefaultAzureCredential(tenantid=os.environ.get('TENANT_ID'))\n",
    "\n",
    "# Get a handle to the workspace\n",
    "ml_client = MLClient(\n",
    "    credential=credential,\n",
    "    subscription_id = os.environ.get('SUBSCRIPTION_ID'),\n",
    "    resource_group_name = os.environ.get('RESOURCE_GROUP_NAME'),\n",
    "    workspace_name = os.environ.get('WORKSPACE_NAME'),\n",
    ")"
   ]
  },
  {
   "cell_type": "code",
   "execution_count": 4,
   "metadata": {},
   "outputs": [],
   "source": [
    "# set the version number of the data asset to the current UTC time\n",
    "v1 = time.strftime(\"%Y.%m.%d.%H%M%S\", time.gmtime())\n",
    "local_path = \"../data/oj_sim_sales/\""
   ]
  },
  {
   "cell_type": "code",
   "execution_count": 5,
   "metadata": {},
   "outputs": [
    {
     "data": {
      "text/plain": [
       "Data({'skip_validation': False, 'mltable_schema_url': None, 'referenced_uris': None, 'type': 'uri_file', 'is_anonymous': False, 'auto_increment_version': False, 'auto_delete_setting': None, 'name': 'oj-sim-sales-test', 'description': 'Validation Set - Chicago area orange juice sales data', 'tags': {}, 'properties': {}, 'print_as_yaml': True, 'id': '/subscriptions/9a729243-1221-42c5-824c-9e44cb2da98d/resourceGroups/many-models-rg/providers/Microsoft.MachineLearningServices/workspaces/mm-aml-wksp/data/oj-sim-sales-test/versions/2023.12.20.161635', 'Resource__source_path': None, 'base_path': '/home/zacksoenen/Projects/many-models-azureml/demo_notebooks', 'creation_context': <azure.ai.ml.entities._system_data.SystemData object at 0x7f1eadad1a00>, 'serialize': <msrest.serialization.Serializer object at 0x7f1eadae7b80>, 'version': '2023.12.20.161635', 'latest_version': None, 'path': 'azureml://subscriptions/9a729243-1221-42c5-824c-9e44cb2da98d/resourcegroups/many-models-rg/workspaces/mm-aml-wksp/datastores/workspaceblobstore/paths/LocalUpload/724411e17666e66d19b8612b775b7707/test_subset.csv', 'datastore': None})"
      ]
     },
     "execution_count": 5,
     "metadata": {},
     "output_type": "execute_result"
    }
   ],
   "source": [
    "train_data = Data(\n",
    "    name=\"oj-sim-sales-train\",\n",
    "    version=v1,\n",
    "    description=\"Training Data - Chicago area orange juice sales data\",\n",
    "    path=local_path + \"train_subset.csv\",\n",
    "    type=AssetTypes.URI_FILE,\n",
    ")\n",
    "\n",
    "test_data = Data(\n",
    "    name=\"oj-sim-sales-test\",\n",
    "    version=v1,\n",
    "    description=\"Validation Set - Chicago area orange juice sales data\",\n",
    "    path=local_path + \"test_subset.csv\",\n",
    "    type=AssetTypes.URI_FILE,\n",
    ")\n",
    "\n",
    "# create data assets\n",
    "ml_client.data.create_or_update(train_data)\n",
    "ml_client.data.create_or_update(test_data)"
   ]
  },
  {
   "cell_type": "code",
   "execution_count": 6,
   "metadata": {},
   "outputs": [
    {
     "data": {
      "text/html": [
       "<div>\n",
       "<style scoped>\n",
       "    .dataframe tbody tr th:only-of-type {\n",
       "        vertical-align: middle;\n",
       "    }\n",
       "\n",
       "    .dataframe tbody tr th {\n",
       "        vertical-align: top;\n",
       "    }\n",
       "\n",
       "    .dataframe thead th {\n",
       "        text-align: right;\n",
       "    }\n",
       "</style>\n",
       "<table border=\"1\" class=\"dataframe\">\n",
       "  <thead>\n",
       "    <tr style=\"text-align: right;\">\n",
       "      <th></th>\n",
       "      <th>WeekStarting</th>\n",
       "      <th>Store</th>\n",
       "      <th>Brand</th>\n",
       "      <th>Advert</th>\n",
       "      <th>Price</th>\n",
       "      <th>Revenue</th>\n",
       "    </tr>\n",
       "  </thead>\n",
       "  <tbody>\n",
       "    <tr>\n",
       "      <th>0</th>\n",
       "      <td>1990-06-14</td>\n",
       "      <td>1000</td>\n",
       "      <td>dominicks</td>\n",
       "      <td>1</td>\n",
       "      <td>2.59</td>\n",
       "      <td>31087.77</td>\n",
       "    </tr>\n",
       "    <tr>\n",
       "      <th>1</th>\n",
       "      <td>1990-06-14</td>\n",
       "      <td>1028</td>\n",
       "      <td>dominicks</td>\n",
       "      <td>1</td>\n",
       "      <td>2.64</td>\n",
       "      <td>45819.84</td>\n",
       "    </tr>\n",
       "    <tr>\n",
       "      <th>2</th>\n",
       "      <td>1990-06-14</td>\n",
       "      <td>1021</td>\n",
       "      <td>minute_maid</td>\n",
       "      <td>1</td>\n",
       "      <td>2.20</td>\n",
       "      <td>27271.20</td>\n",
       "    </tr>\n",
       "    <tr>\n",
       "      <th>3</th>\n",
       "      <td>1990-06-14</td>\n",
       "      <td>1011</td>\n",
       "      <td>tropicana</td>\n",
       "      <td>1</td>\n",
       "      <td>2.62</td>\n",
       "      <td>48213.24</td>\n",
       "    </tr>\n",
       "    <tr>\n",
       "      <th>4</th>\n",
       "      <td>1990-06-14</td>\n",
       "      <td>1009</td>\n",
       "      <td>minute_maid</td>\n",
       "      <td>1</td>\n",
       "      <td>2.67</td>\n",
       "      <td>50278.77</td>\n",
       "    </tr>\n",
       "    <tr>\n",
       "      <th>5</th>\n",
       "      <td>1990-06-14</td>\n",
       "      <td>1023</td>\n",
       "      <td>tropicana</td>\n",
       "      <td>1</td>\n",
       "      <td>2.15</td>\n",
       "      <td>24475.60</td>\n",
       "    </tr>\n",
       "    <tr>\n",
       "      <th>6</th>\n",
       "      <td>1990-06-14</td>\n",
       "      <td>1032</td>\n",
       "      <td>dominicks</td>\n",
       "      <td>1</td>\n",
       "      <td>2.16</td>\n",
       "      <td>34920.72</td>\n",
       "    </tr>\n",
       "    <tr>\n",
       "      <th>7</th>\n",
       "      <td>1990-06-14</td>\n",
       "      <td>1001</td>\n",
       "      <td>dominicks</td>\n",
       "      <td>1</td>\n",
       "      <td>2.30</td>\n",
       "      <td>28480.90</td>\n",
       "    </tr>\n",
       "    <tr>\n",
       "      <th>8</th>\n",
       "      <td>1990-06-14</td>\n",
       "      <td>1004</td>\n",
       "      <td>tropicana</td>\n",
       "      <td>1</td>\n",
       "      <td>2.46</td>\n",
       "      <td>44198.82</td>\n",
       "    </tr>\n",
       "    <tr>\n",
       "      <th>9</th>\n",
       "      <td>1990-06-14</td>\n",
       "      <td>1028</td>\n",
       "      <td>minute_maid</td>\n",
       "      <td>1</td>\n",
       "      <td>1.90</td>\n",
       "      <td>34975.20</td>\n",
       "    </tr>\n",
       "  </tbody>\n",
       "</table>\n",
       "</div>"
      ],
      "text/plain": [
       "  WeekStarting  Store        Brand  Advert  Price   Revenue\n",
       "0   1990-06-14   1000    dominicks       1   2.59  31087.77\n",
       "1   1990-06-14   1028    dominicks       1   2.64  45819.84\n",
       "2   1990-06-14   1021  minute_maid       1   2.20  27271.20\n",
       "3   1990-06-14   1011    tropicana       1   2.62  48213.24\n",
       "4   1990-06-14   1009  minute_maid       1   2.67  50278.77\n",
       "5   1990-06-14   1023    tropicana       1   2.15  24475.60\n",
       "6   1990-06-14   1032    dominicks       1   2.16  34920.72\n",
       "7   1990-06-14   1001    dominicks       1   2.30  28480.90\n",
       "8   1990-06-14   1004    tropicana       1   2.46  44198.82\n",
       "9   1990-06-14   1028  minute_maid       1   1.90  34975.20"
      ]
     },
     "metadata": {},
     "output_type": "display_data"
    }
   ],
   "source": [
    "# Validate data upload\n",
    "data_asset = ml_client.data.get(\"oj-sim-sales-train\", label=\"latest\")\n",
    "\n",
    "df = pd.read_csv(data_asset.path)\n",
    "display(df.head(10))"
   ]
  }
 ],
 "metadata": {
  "kernelspec": {
   "display_name": "many_models",
   "language": "python",
   "name": "python3"
  },
  "language_info": {
   "codemirror_mode": {
    "name": "ipython",
    "version": 3
   },
   "file_extension": ".py",
   "mimetype": "text/x-python",
   "name": "python",
   "nbconvert_exporter": "python",
   "pygments_lexer": "ipython3",
   "version": "3.8.18"
  }
 },
 "nbformat": 4,
 "nbformat_minor": 2
}
