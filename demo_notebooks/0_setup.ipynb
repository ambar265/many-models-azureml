{
 "cells": [
  {
   "cell_type": "markdown",
   "metadata": {},
   "source": [
    "## **Prerequisites**\n",
    "\n",
    "#### 1. Setup Azure Machine Learning Workspace via the Portal\n",
    "- Note workspace name, resource group, and subscription id\n",
    "#### 2. Create and populate .env file in the home directory\n",
    "- Use [.sample.env](../.sample.env) as a guide\n",
    "#### 3. Create and activate conda virtual env\n",
    "- Run the following bash commands via the terminal\n",
    "```bash\n",
    "conda env create --name many_models --file=../environment/conda.yaml\n",
    "conda activate many_models\n",
    "```\n",
    "- Select the many_models python interpreter and kernel to run the remainder of this notebook\n",
    "#### 4. Load environment variables by running the cell below"
   ]
  },
  {
   "cell_type": "code",
   "execution_count": null,
   "metadata": {},
   "outputs": [],
   "source": [
    "# Load environment variables from .env file\n",
    "import os\n",
    "from dotenv import load_dotenv, find_dotenv\n",
    "\n",
    "load_dotenv(find_dotenv(), override=True)\n",
    "\n",
    "#Confirm variabels were loaded\n",
    "print(os.getenv(\"WORKSPACE_NAME\"))"
   ]
  },
  {
   "cell_type": "markdown",
   "metadata": {},
   "source": []
  }
 ],
 "metadata": {
  "language_info": {
   "name": "python"
  }
 },
 "nbformat": 4,
 "nbformat_minor": 2
}
